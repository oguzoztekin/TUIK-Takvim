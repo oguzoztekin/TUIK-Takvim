{
 "cells": [
  {
   "cell_type": "code",
   "execution_count": 17,
   "metadata": {},
   "outputs": [],
   "source": [
    "## Required Libraries\n",
    "import pandas as pd\n",
    "import selenium\n",
    "import glob\n",
    "import os\n",
    "import shutil\n",
    "import warnings\n",
    "import time\n",
    "warnings.filterwarnings('ignore')\n",
    "from selenium import webdriver\n",
    "from selenium.webdriver.firefox.options import Options\n",
    "from selenium.webdriver.firefox.service import Service\n",
    "from selenium.webdriver.common.by import By\n",
    "from selenium.webdriver.support import expected_conditions as EC\n",
    "from selenium.webdriver.support.ui import WebDriverWait\n",
    "import requests\n",
    "from bs4 import BeautifulSoup\n",
    "## Required Code due to errors occured\n",
    "from selenium.common.exceptions import UnexpectedAlertPresentException\n",
    "\n",
    "download_dir = r\"C:\\Users\\oguzo\\Desktop\\Selenium\\Tüik\" \n",
    "\n",
    "# Set up options for Firefox\n",
    "options = Options()\n",
    "options.binary_location = r\"C:\\Program Files\\Mozilla Firefox\\firefox.exe\" \n",
    "options.set_preference(\"browser.download.folderList\", 2)\n",
    "options.set_preference(\"browser.download.manager.showWhenStarting\", False)\n",
    "options.set_preference(\"browser.download.dir\", download_dir)\n",
    "options.set_preference(\"browser.helperApps.neverAsk.saveToDisk\", \"application/vnd.ms-excel\")\n",
    "\n",
    "# Set up the service for geckodriver\n",
    "service = Service(executable_path=r\"C:\\Users\\oguzo\\Desktop\\Selenium\\geckodriver.exe\")\n",
    "\n",
    "# Initialize the WebDriver\n",
    "browser = webdriver.Firefox(service=service, options=options)\n",
    "\n",
    "# Open the website\n",
    "browser.get('https://www.tuik.gov.tr/Kurumsal/Veri_Takvimi')\n",
    "\n",
    "\n",
    "WebDriverWait(browser, 20).until(EC.element_to_be_clickable((By.XPATH, f\"/html/body/div/div/div[1]/div[2]/div[2]/div[2]/button\"))).click()\n",
    "\n",
    "WebDriverWait(browser, 20).until(EC.element_to_be_clickable((By.XPATH, f\"/html/body/div/div/div[1]/div[2]/div[2]/div[2]/ul/li[1]/a\"))).click()\n",
    "\n",
    "elements = browser.find_elements(By.XPATH, \"/html/body/div/div/div[2]/div/div/div[2]/div[2]/div/a/div/div[2]/p\")\n",
    "\n",
    "isimler = [element.get_property(\"innerHTML\") for element in elements]\n",
    "\n",
    "browser.quit()\n"
   ]
  },
  {
   "cell_type": "code",
   "execution_count": 20,
   "metadata": {},
   "outputs": [
    {
     "ename": "ElementClickInterceptedException",
     "evalue": "Message: Element <button id=\"dropdownMenuButton1\" class=\"btn  fs-2     dropdown-toggle w-100 h-100\" type=\"button\"> is not clickable at point (894,139) because another element <div id=\"tuik-loader\"> obscures it\nStacktrace:\nRemoteError@chrome://remote/content/shared/RemoteError.sys.mjs:8:8\nWebDriverError@chrome://remote/content/shared/webdriver/Errors.sys.mjs:193:5\nElementClickInterceptedError@chrome://remote/content/shared/webdriver/Errors.sys.mjs:337:5\nwebdriverClickElement@chrome://remote/content/marionette/interaction.sys.mjs:177:11\ninteraction.clickElement@chrome://remote/content/marionette/interaction.sys.mjs:136:11\nclickElement@chrome://remote/content/marionette/actors/MarionetteCommandsChild.sys.mjs:205:29\nreceiveMessage@chrome://remote/content/marionette/actors/MarionetteCommandsChild.sys.mjs:85:31\n",
     "output_type": "error",
     "traceback": [
      "\u001b[1;31m---------------------------------------------------------------------------\u001b[0m",
      "\u001b[1;31mElementClickInterceptedException\u001b[0m          Traceback (most recent call last)",
      "Cell \u001b[1;32mIn[20], line 11\u001b[0m\n\u001b[0;32m      7\u001b[0m \u001b[38;5;66;03m# Open the website\u001b[39;00m\n\u001b[0;32m      8\u001b[0m browser\u001b[38;5;241m.\u001b[39mget(\u001b[38;5;124m'\u001b[39m\u001b[38;5;124mhttps://www.tuik.gov.tr/Kurumsal/Veri_Takvimi\u001b[39m\u001b[38;5;124m'\u001b[39m)\n\u001b[1;32m---> 11\u001b[0m \u001b[43mWebDriverWait\u001b[49m\u001b[43m(\u001b[49m\u001b[43mbrowser\u001b[49m\u001b[43m,\u001b[49m\u001b[43m \u001b[49m\u001b[38;5;241;43m50\u001b[39;49m\u001b[43m)\u001b[49m\u001b[38;5;241;43m.\u001b[39;49m\u001b[43muntil\u001b[49m\u001b[43m(\u001b[49m\u001b[43mEC\u001b[49m\u001b[38;5;241;43m.\u001b[39;49m\u001b[43melement_to_be_clickable\u001b[49m\u001b[43m(\u001b[49m\u001b[43m(\u001b[49m\u001b[43mBy\u001b[49m\u001b[38;5;241;43m.\u001b[39;49m\u001b[43mXPATH\u001b[49m\u001b[43m,\u001b[49m\u001b[43m \u001b[49m\u001b[38;5;124;43mf\u001b[39;49m\u001b[38;5;124;43m\"\u001b[39;49m\u001b[38;5;124;43m/html/body/div/div/div[1]/div[2]/div[2]/div[2]/button\u001b[39;49m\u001b[38;5;124;43m\"\u001b[39;49m\u001b[43m)\u001b[49m\u001b[43m)\u001b[49m\u001b[43m)\u001b[49m\u001b[38;5;241;43m.\u001b[39;49m\u001b[43mclick\u001b[49m\u001b[43m(\u001b[49m\u001b[43m)\u001b[49m\n\u001b[0;32m     13\u001b[0m WebDriverWait(browser, \u001b[38;5;241m50\u001b[39m)\u001b[38;5;241m.\u001b[39muntil(EC\u001b[38;5;241m.\u001b[39melement_to_be_clickable((By\u001b[38;5;241m.\u001b[39mXPATH, \u001b[38;5;124mf\u001b[39m\u001b[38;5;124m\"\u001b[39m\u001b[38;5;124m/html/body/div/div/div[1]/div[2]/div[2]/div[2]/ul/li[1]/a\u001b[39m\u001b[38;5;124m\"\u001b[39m)))\u001b[38;5;241m.\u001b[39mclick()\n\u001b[0;32m     15\u001b[0m elements \u001b[38;5;241m=\u001b[39m browser\u001b[38;5;241m.\u001b[39mfind_elements(By\u001b[38;5;241m.\u001b[39mXPATH, \u001b[38;5;124m\"\u001b[39m\u001b[38;5;124m/html/body/div/div/div[2]/div/div/div[2]/div[2]/div/a/div/div[2]/p\u001b[39m\u001b[38;5;124m\"\u001b[39m)\n",
      "File \u001b[1;32m~\\AppData\\Local\\Packages\\PythonSoftwareFoundation.Python.3.11_qbz5n2kfra8p0\\LocalCache\\local-packages\\Python311\\site-packages\\selenium\\webdriver\\remote\\webelement.py:94\u001b[0m, in \u001b[0;36mWebElement.click\u001b[1;34m(self)\u001b[0m\n\u001b[0;32m     92\u001b[0m \u001b[38;5;28;01mdef\u001b[39;00m \u001b[38;5;21mclick\u001b[39m(\u001b[38;5;28mself\u001b[39m) \u001b[38;5;241m-\u001b[39m\u001b[38;5;241m>\u001b[39m \u001b[38;5;28;01mNone\u001b[39;00m:\n\u001b[0;32m     93\u001b[0m \u001b[38;5;250m    \u001b[39m\u001b[38;5;124;03m\"\"\"Clicks the element.\"\"\"\u001b[39;00m\n\u001b[1;32m---> 94\u001b[0m     \u001b[38;5;28;43mself\u001b[39;49m\u001b[38;5;241;43m.\u001b[39;49m\u001b[43m_execute\u001b[49m\u001b[43m(\u001b[49m\u001b[43mCommand\u001b[49m\u001b[38;5;241;43m.\u001b[39;49m\u001b[43mCLICK_ELEMENT\u001b[49m\u001b[43m)\u001b[49m\n",
      "File \u001b[1;32m~\\AppData\\Local\\Packages\\PythonSoftwareFoundation.Python.3.11_qbz5n2kfra8p0\\LocalCache\\local-packages\\Python311\\site-packages\\selenium\\webdriver\\remote\\webelement.py:395\u001b[0m, in \u001b[0;36mWebElement._execute\u001b[1;34m(self, command, params)\u001b[0m\n\u001b[0;32m    393\u001b[0m     params \u001b[38;5;241m=\u001b[39m {}\n\u001b[0;32m    394\u001b[0m params[\u001b[38;5;124m\"\u001b[39m\u001b[38;5;124mid\u001b[39m\u001b[38;5;124m\"\u001b[39m] \u001b[38;5;241m=\u001b[39m \u001b[38;5;28mself\u001b[39m\u001b[38;5;241m.\u001b[39m_id\n\u001b[1;32m--> 395\u001b[0m \u001b[38;5;28;01mreturn\u001b[39;00m \u001b[38;5;28;43mself\u001b[39;49m\u001b[38;5;241;43m.\u001b[39;49m\u001b[43m_parent\u001b[49m\u001b[38;5;241;43m.\u001b[39;49m\u001b[43mexecute\u001b[49m\u001b[43m(\u001b[49m\u001b[43mcommand\u001b[49m\u001b[43m,\u001b[49m\u001b[43m \u001b[49m\u001b[43mparams\u001b[49m\u001b[43m)\u001b[49m\n",
      "File \u001b[1;32m~\\AppData\\Local\\Packages\\PythonSoftwareFoundation.Python.3.11_qbz5n2kfra8p0\\LocalCache\\local-packages\\Python311\\site-packages\\selenium\\webdriver\\remote\\webdriver.py:354\u001b[0m, in \u001b[0;36mWebDriver.execute\u001b[1;34m(self, driver_command, params)\u001b[0m\n\u001b[0;32m    352\u001b[0m response \u001b[38;5;241m=\u001b[39m \u001b[38;5;28mself\u001b[39m\u001b[38;5;241m.\u001b[39mcommand_executor\u001b[38;5;241m.\u001b[39mexecute(driver_command, params)\n\u001b[0;32m    353\u001b[0m \u001b[38;5;28;01mif\u001b[39;00m response:\n\u001b[1;32m--> 354\u001b[0m     \u001b[38;5;28;43mself\u001b[39;49m\u001b[38;5;241;43m.\u001b[39;49m\u001b[43merror_handler\u001b[49m\u001b[38;5;241;43m.\u001b[39;49m\u001b[43mcheck_response\u001b[49m\u001b[43m(\u001b[49m\u001b[43mresponse\u001b[49m\u001b[43m)\u001b[49m\n\u001b[0;32m    355\u001b[0m     response[\u001b[38;5;124m\"\u001b[39m\u001b[38;5;124mvalue\u001b[39m\u001b[38;5;124m\"\u001b[39m] \u001b[38;5;241m=\u001b[39m \u001b[38;5;28mself\u001b[39m\u001b[38;5;241m.\u001b[39m_unwrap_value(response\u001b[38;5;241m.\u001b[39mget(\u001b[38;5;124m\"\u001b[39m\u001b[38;5;124mvalue\u001b[39m\u001b[38;5;124m\"\u001b[39m, \u001b[38;5;28;01mNone\u001b[39;00m))\n\u001b[0;32m    356\u001b[0m     \u001b[38;5;28;01mreturn\u001b[39;00m response\n",
      "File \u001b[1;32m~\\AppData\\Local\\Packages\\PythonSoftwareFoundation.Python.3.11_qbz5n2kfra8p0\\LocalCache\\local-packages\\Python311\\site-packages\\selenium\\webdriver\\remote\\errorhandler.py:229\u001b[0m, in \u001b[0;36mErrorHandler.check_response\u001b[1;34m(self, response)\u001b[0m\n\u001b[0;32m    227\u001b[0m         alert_text \u001b[38;5;241m=\u001b[39m value[\u001b[38;5;124m\"\u001b[39m\u001b[38;5;124malert\u001b[39m\u001b[38;5;124m\"\u001b[39m]\u001b[38;5;241m.\u001b[39mget(\u001b[38;5;124m\"\u001b[39m\u001b[38;5;124mtext\u001b[39m\u001b[38;5;124m\"\u001b[39m)\n\u001b[0;32m    228\u001b[0m     \u001b[38;5;28;01mraise\u001b[39;00m exception_class(message, screen, stacktrace, alert_text)  \u001b[38;5;66;03m# type: ignore[call-arg]  # mypy is not smart enough here\u001b[39;00m\n\u001b[1;32m--> 229\u001b[0m \u001b[38;5;28;01mraise\u001b[39;00m exception_class(message, screen, stacktrace)\n",
      "\u001b[1;31mElementClickInterceptedException\u001b[0m: Message: Element <button id=\"dropdownMenuButton1\" class=\"btn  fs-2     dropdown-toggle w-100 h-100\" type=\"button\"> is not clickable at point (894,139) because another element <div id=\"tuik-loader\"> obscures it\nStacktrace:\nRemoteError@chrome://remote/content/shared/RemoteError.sys.mjs:8:8\nWebDriverError@chrome://remote/content/shared/webdriver/Errors.sys.mjs:193:5\nElementClickInterceptedError@chrome://remote/content/shared/webdriver/Errors.sys.mjs:337:5\nwebdriverClickElement@chrome://remote/content/marionette/interaction.sys.mjs:177:11\ninteraction.clickElement@chrome://remote/content/marionette/interaction.sys.mjs:136:11\nclickElement@chrome://remote/content/marionette/actors/MarionetteCommandsChild.sys.mjs:205:29\nreceiveMessage@chrome://remote/content/marionette/actors/MarionetteCommandsChild.sys.mjs:85:31\n"
     ]
    }
   ],
   "source": [
    "# Set up the service for geckodriver\n",
    "service = Service(executable_path=r\"C:\\Users\\oguzo\\Desktop\\Selenium\\geckodriver.exe\")\n",
    "\n",
    "# Initialize the WebDriver\n",
    "browser = webdriver.Firefox(service=service, options=options)\n",
    "\n",
    "# Open the website\n",
    "browser.get('https://www.tuik.gov.tr/Kurumsal/Veri_Takvimi')\n",
    "\n",
    "\n",
    "WebDriverWait(browser, 50).until(EC.element_to_be_clickable((By.XPATH, f\"/html/body/div/div/div[1]/div[2]/div[2]/div[2]/button\"))).click()\n",
    "\n",
    "WebDriverWait(browser, 50).until(EC.element_to_be_clickable((By.XPATH, f\"/html/body/div/div/div[1]/div[2]/div[2]/div[2]/ul/li[1]/a\"))).click()\n",
    "\n",
    "elements = browser.find_elements(By.XPATH, \"/html/body/div/div/div[2]/div/div/div[2]/div[2]/div/a/div/div[2]/p\")\n",
    "\n",
    "isimler = [element.get_property(\"innerHTML\") for element in elements]\n",
    "\n",
    "browser.quit()"
   ]
  },
  {
   "cell_type": "code",
   "execution_count": 19,
   "metadata": {},
   "outputs": [
    {
     "data": {
      "text/plain": [
       "['Elektronik Fon Transfer (EFT) Sistemi ve Elektronik Menkul Kıymet Transfer (EMKT) Sistemi İşlemleri&nbsp;',\n",
       " 'Perakende Ödeme Sistemi (PÖS) İşlemleri',\n",
       " 'Girişim Özelliklerine Göre Dış Ticaret İstatistikleri']"
      ]
     },
     "execution_count": 19,
     "metadata": {},
     "output_type": "execute_result"
    }
   ],
   "source": [
    "isimler"
   ]
  },
  {
   "cell_type": "code",
   "execution_count": 14,
   "metadata": {},
   "outputs": [
    {
     "name": "stdout",
     "output_type": "stream",
     "text": [
      "5\n",
      "4\n",
      "3\n",
      "2\n",
      "1\n"
     ]
    }
   ],
   "source": [
    "for year in reversed(range(2020,2025)):\n",
    "    print(year-2019)\n",
    "    /html/body/div/div/div[1]/div[2]/div[2]/div[2]/ul/li[{year-2019}]/a\n"
   ]
  },
  {
   "cell_type": "code",
   "execution_count": 13,
   "metadata": {},
   "outputs": [
    {
     "name": "stdout",
     "output_type": "stream",
     "text": [
      "['Halka Açık Şirket İstatistikleri (Birinci el piyasa ve menkul kıymet ihraçları; menkul kıymet stokları, ikinci el piyasalar)', 'Menkul Kıymet Yatırım Fonlarına/Emeklilik Yatırım Fonlarına/Menkul Kıymet, Gayrimenkul, Girişim Sermayesi Yatırım Ortaklıklarına ve Portföy Yönetim Şirketlerine  İlişkin Aylık İstatistikler', 'Faaliyetleri Devam Etmekte Olan Aracı Kuruluşlar/Faaliyetleri Geçici Olarak Durdurulan Aracı Kuruluşlar/Aracı Kuruluşların Mevcut Yetki Belgelerine İlişkin Bilgiler/Aracı Kuruluşların Merkez Dışı Örgütleri']\n"
     ]
    }
   ],
   "source": [
    "# Chatgpt kodu düzeltemedi\n",
    "\n",
    "import pandas as pd\n",
    "import selenium\n",
    "import glob\n",
    "import os\n",
    "import shutil\n",
    "import warnings\n",
    "import time\n",
    "from selenium import webdriver\n",
    "from selenium.webdriver.firefox.options import Options\n",
    "from selenium.webdriver.firefox.service import Service\n",
    "from selenium.webdriver.common.by import By\n",
    "from selenium.webdriver.support import expected_conditions as EC\n",
    "from selenium.webdriver.support.ui import WebDriverWait\n",
    "import requests\n",
    "from bs4 import BeautifulSoup\n",
    "from selenium.common.exceptions import UnexpectedAlertPresentException\n",
    "warnings.filterwarnings('ignore')\n",
    "\n",
    "download_dir = r\"C:\\Users\\oguzo\\Desktop\\Selenium\\Tüik\"\n",
    "\n",
    "# Set up options for Firefox\n",
    "options = Options()\n",
    "options.binary_location = r\"C:\\Program Files\\Mozilla Firefox\\firefox.exe\"\n",
    "options.set_preference(\"browser.download.folderList\", 2)\n",
    "options.set_preference(\"browser.download.manager.showWhenStarting\", False)\n",
    "options.set_preference(\"browser.download.dir\", download_dir)\n",
    "options.set_preference(\"browser.helperApps.neverAsk.saveToDisk\", \"application/vnd.ms-excel\")\n",
    "\n",
    "# Set up the service for geckodriver\n",
    "service = Service(executable_path=r\"C:\\Users\\oguzo\\Desktop\\Selenium\\geckodriver.exe\")\n",
    "\n",
    "# Initialize the WebDriver\n",
    "browser = webdriver.Firefox(service=service, options=options)\n",
    "\n",
    "# Open the website\n",
    "browser.get('https://www.tuik.gov.tr/Kurumsal/Veri_Takvimi')\n",
    "\n",
    "# Wait for the first button to be clickable and click it\n",
    "WebDriverWait(browser, 50).until(\n",
    "    EC.element_to_be_clickable((By.XPATH, \"/html/body/div/div/div[1]/div[2]/div[2]/div[2]/button\"))\n",
    ").click()\n",
    "\n",
    "# Wait for the dropdown item to be clickable and click it\n",
    "WebDriverWait(browser, 50).until(\n",
    "    EC.element_to_be_clickable((By.XPATH, \"/html/body/div/div/div[1]/div[2]/div[2]/div[2]/ul/li[1]/a\"))\n",
    ").click()\n",
    "\n",
    "# Wait until the elements you're interested in are present\n",
    "elements = WebDriverWait(browser, 50).until(\n",
    "    EC.presence_of_all_elements_located((By.XPATH, \"/html/body/div/div/div[2]/div/div/div[2]/div[2]/div/a/div/div[2]/p\"))\n",
    ")\n",
    "\n",
    "# Extract the innerHTML of these elements\n",
    "isimler = [element.get_property(\"innerHTML\") for element in elements]\n",
    "\n",
    "browser.quit()\n",
    "\n",
    "print(isimler)\n"
   ]
  }
 ],
 "metadata": {
  "kernelspec": {
   "display_name": "Python 3",
   "language": "python",
   "name": "python3"
  },
  "language_info": {
   "codemirror_mode": {
    "name": "ipython",
    "version": 3
   },
   "file_extension": ".py",
   "mimetype": "text/x-python",
   "name": "python",
   "nbconvert_exporter": "python",
   "pygments_lexer": "ipython3",
   "version": "3.11.9"
  }
 },
 "nbformat": 4,
 "nbformat_minor": 2
}
