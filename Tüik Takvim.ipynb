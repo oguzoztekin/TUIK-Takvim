{
 "cells": [
  {
   "cell_type": "code",
   "execution_count": 10,
   "metadata": {},
   "outputs": [],
   "source": [
    "## Required Libraries\n",
    "import pandas as pd\n",
    "import selenium\n",
    "import glob\n",
    "import os\n",
    "import shutil\n",
    "import warnings\n",
    "import time\n",
    "warnings.filterwarnings('ignore')\n",
    "from selenium import webdriver\n",
    "from selenium.webdriver.firefox.options import Options\n",
    "from selenium.webdriver.firefox.service import Service\n",
    "from selenium.webdriver.common.by import By\n",
    "from selenium.webdriver.support import expected_conditions as EC\n",
    "from selenium.webdriver.support.ui import WebDriverWait\n",
    "## Required Code due to errors occured\n",
    "from selenium.common.exceptions import UnexpectedAlertPresentException\n",
    "\n",
    "download_dir = r\"C:\\Users\\oguzo\\Desktop\\Selenium\\Tüik\" \n",
    "\n",
    "# Set up options for Firefox\n",
    "options = Options()\n",
    "options.binary_location = r\"C:\\Program Files\\Mozilla Firefox\\firefox.exe\" \n",
    "options.set_preference(\"browser.download.folderList\", 2)\n",
    "options.set_preference(\"browser.download.manager.showWhenStarting\", False)\n",
    "options.set_preference(\"browser.download.dir\", download_dir)\n",
    "options.set_preference(\"browser.helperApps.neverAsk.saveToDisk\", \"application/vnd.ms-excel\")\n",
    "\n",
    "# Set up the service for geckodriver\n",
    "service = Service(executable_path=r\"C:\\Users\\oguzo\\Desktop\\Selenium\\geckodriver.exe\")\n",
    "\n",
    "# Initialize the WebDriver\n",
    "browser = webdriver.Firefox(service=service, options=options)\n",
    "\n",
    "# Open the website\n",
    "browser.get('https://www.tuik.gov.tr/Kurumsal/Veri_Takvimi')\n",
    "\n",
    "\n",
    "WebDriverWait(browser, 20).until(EC.element_to_be_clickable((By.XPATH, f\"/html/body/div/div/div[1]/div[2]/div[2]/div[2]/button\"))).click()\n",
    "\n",
    "WebDriverWait(browser, 20).until(EC.element_to_be_clickable((By.XPATH, f\"/html/body/div/div/div[1]/div[2]/div[2]/div[2]/ul/li[1]/a\"))).click()\n",
    "\n",
    "elements = browser.find_elements(By.XPATH, \"/html/body/div/div/div[2]/div/div/div[2]/div[2]/div/a/div/div[2]/p\")\n",
    "\n",
    "isimler = [element.get_property(\"innerHTML\") for element in elements]\n",
    "\n",
    "browser.quit()"
   ]
  },
  {
   "cell_type": "code",
   "execution_count": 11,
   "metadata": {},
   "outputs": [
    {
     "data": {
      "text/plain": [
       "['Halka Açık Şirket İstatistikleri (Birinci el piyasa ve menkul kıymet ihraçları; menkul kıymet stokları, ikinci el piyasalar)',\n",
       " 'Menkul Kıymet Yatırım Fonlarına/Emeklilik Yatırım Fonlarına/Menkul Kıymet, Gayrimenkul, Girişim Sermayesi Yatırım Ortaklıklarına ve Portföy Yönetim Şirketlerine  İlişkin Aylık İstatistikler',\n",
       " 'Faaliyetleri Devam Etmekte Olan Aracı Kuruluşlar/Faaliyetleri Geçici Olarak Durdurulan Aracı Kuruluşlar/Aracı Kuruluşların Mevcut Yetki Belgelerine İlişkin Bilgiler/Aracı Kuruluşların Merkez Dışı Örgütleri']"
      ]
     },
     "execution_count": 11,
     "metadata": {},
     "output_type": "execute_result"
    }
   ],
   "source": [
    "isimler"
   ]
  },
  {
   "cell_type": "code",
   "execution_count": 14,
   "metadata": {},
   "outputs": [
    {
     "name": "stdout",
     "output_type": "stream",
     "text": [
      "5\n",
      "4\n",
      "3\n",
      "2\n",
      "1\n"
     ]
    }
   ],
   "source": [
    "for year in reversed(range(2020,2025)):\n",
    "    print(year-2019)\n",
    "    /html/body/div/div/div[1]/div[2]/div[2]/div[2]/ul/li[{year-2019}]/a\n"
   ]
  },
  {
   "cell_type": "code",
   "execution_count": 13,
   "metadata": {},
   "outputs": [
    {
     "name": "stdout",
     "output_type": "stream",
     "text": [
      "['Halka Açık Şirket İstatistikleri (Birinci el piyasa ve menkul kıymet ihraçları; menkul kıymet stokları, ikinci el piyasalar)', 'Menkul Kıymet Yatırım Fonlarına/Emeklilik Yatırım Fonlarına/Menkul Kıymet, Gayrimenkul, Girişim Sermayesi Yatırım Ortaklıklarına ve Portföy Yönetim Şirketlerine  İlişkin Aylık İstatistikler', 'Faaliyetleri Devam Etmekte Olan Aracı Kuruluşlar/Faaliyetleri Geçici Olarak Durdurulan Aracı Kuruluşlar/Aracı Kuruluşların Mevcut Yetki Belgelerine İlişkin Bilgiler/Aracı Kuruluşların Merkez Dışı Örgütleri']\n"
     ]
    }
   ],
   "source": [
    "# Chatgpt kodu\n",
    "\n",
    "import pandas as pd\n",
    "import selenium\n",
    "import glob\n",
    "import os\n",
    "import shutil\n",
    "import warnings\n",
    "import time\n",
    "from selenium import webdriver\n",
    "from selenium.webdriver.firefox.options import Options\n",
    "from selenium.webdriver.firefox.service import Service\n",
    "from selenium.webdriver.common.by import By\n",
    "from selenium.webdriver.support import expected_conditions as EC\n",
    "from selenium.webdriver.support.ui import WebDriverWait\n",
    "import requests\n",
    "from bs4 import BeautifulSoup\n",
    "from selenium.common.exceptions import UnexpectedAlertPresentException\n",
    "warnings.filterwarnings('ignore')\n",
    "\n",
    "download_dir = r\"C:\\Users\\oguzo\\Desktop\\Selenium\\Tüik\"\n",
    "\n",
    "# Set up options for Firefox\n",
    "options = Options()\n",
    "options.binary_location = r\"C:\\Program Files\\Mozilla Firefox\\firefox.exe\"\n",
    "options.set_preference(\"browser.download.folderList\", 2)\n",
    "options.set_preference(\"browser.download.manager.showWhenStarting\", False)\n",
    "options.set_preference(\"browser.download.dir\", download_dir)\n",
    "options.set_preference(\"browser.helperApps.neverAsk.saveToDisk\", \"application/vnd.ms-excel\")\n",
    "\n",
    "# Set up the service for geckodriver\n",
    "service = Service(executable_path=r\"C:\\Users\\oguzo\\Desktop\\Selenium\\geckodriver.exe\")\n",
    "\n",
    "# Initialize the WebDriver\n",
    "browser = webdriver.Firefox(service=service, options=options)\n",
    "\n",
    "# Open the website\n",
    "browser.get('https://www.tuik.gov.tr/Kurumsal/Veri_Takvimi')\n",
    "\n",
    "# Wait for the first button to be clickable and click it\n",
    "WebDriverWait(browser, 50).until(\n",
    "    EC.element_to_be_clickable((By.XPATH, \"/html/body/div/div/div[1]/div[2]/div[2]/div[2]/button\"))\n",
    ").click()\n",
    "\n",
    "# Wait for the dropdown item to be clickable and click it\n",
    "WebDriverWait(browser, 50).until(\n",
    "    EC.element_to_be_clickable((By.XPATH, \"/html/body/div/div/div[1]/div[2]/div[2]/div[2]/ul/li[1]/a\"))\n",
    ").click()\n",
    "\n",
    "# Wait until the elements you're interested in are present\n",
    "elements = WebDriverWait(browser, 50).until(\n",
    "    EC.presence_of_all_elements_located((By.XPATH, \"/html/body/div/div/div[2]/div/div/div[2]/div[2]/div/a/div/div[2]/p\"))\n",
    ")\n",
    "\n",
    "# Extract the innerHTML of these elements\n",
    "isimler = [element.get_property(\"innerHTML\") for element in elements]\n",
    "\n",
    "browser.quit()\n",
    "\n",
    "print(isimler)\n"
   ]
  }
 ],
 "metadata": {
  "kernelspec": {
   "display_name": "Python 3",
   "language": "python",
   "name": "python3"
  },
  "language_info": {
   "codemirror_mode": {
    "name": "ipython",
    "version": 3
   },
   "file_extension": ".py",
   "mimetype": "text/x-python",
   "name": "python",
   "nbconvert_exporter": "python",
   "pygments_lexer": "ipython3",
   "version": "3.11.9"
  }
 },
 "nbformat": 4,
 "nbformat_minor": 2
}
